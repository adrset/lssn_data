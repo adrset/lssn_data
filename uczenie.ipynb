{
  "nbformat": 4,
  "nbformat_minor": 0,
  "metadata": {
    "colab": {
      "name": "Untitled0.ipynb",
      "provenance": [],
      "collapsed_sections": [],
      "toc_visible": true
    },
    "kernelspec": {
      "name": "python3",
      "display_name": "Python 3"
    }
  },
  "cells": [
    {
      "cell_type": "code",
      "metadata": {
        "id": "zouqrc5rWpW_",
        "colab_type": "code",
        "outputId": "a3a8c6d6-844f-4ca6-c9ee-610508af5c3f",
        "colab": {
          "base_uri": "https://localhost:8080/",
          "height": 153
        }
      },
      "source": [
        "!git clone https://github.com/adrset/car_data\n",
        "!git clone https://github.com/adrset/lssn_data\n",
        "#!git clone https://github.com/rslim087a/track"
      ],
      "execution_count": 108,
      "outputs": [
        {
          "output_type": "stream",
          "text": [
            "fatal: destination path 'car_data' already exists and is not an empty directory.\n",
            "Cloning into 'lssn_data'...\n",
            "remote: Enumerating objects: 13744, done.\u001b[K\n",
            "remote: Counting objects: 100% (13744/13744), done.\u001b[K\n",
            "remote: Compressing objects: 100% (13744/13744), done.\u001b[K\n",
            "remote: Total 13744 (delta 0), reused 13744 (delta 0), pack-reused 0\n",
            "Receiving objects: 100% (13744/13744), 173.61 MiB | 33.87 MiB/s, done.\n",
            "Checking out files: 100% (13750/13750), done.\n"
          ],
          "name": "stdout"
        }
      ]
    },
    {
      "cell_type": "code",
      "metadata": {
        "id": "C4-NKRx0WyRj",
        "colab_type": "code",
        "outputId": "68eda39f-6042-4083-f955-294808333771",
        "colab": {
          "base_uri": "https://localhost:8080/",
          "height": 34
        }
      },
      "source": [
        "!ls"
      ],
      "execution_count": 0,
      "outputs": [
        {
          "output_type": "stream",
          "text": [
            "sample_data  track\n"
          ],
          "name": "stdout"
        }
      ]
    },
    {
      "cell_type": "code",
      "metadata": {
        "id": "MCtchQShXB0J",
        "colab_type": "code",
        "outputId": "dbab3929-662c-418b-ae16-2145131fdaaa",
        "colab": {
          "base_uri": "https://localhost:8080/",
          "height": 34
        }
      },
      "source": [
        "!ls car_data"
      ],
      "execution_count": 0,
      "outputs": [
        {
          "output_type": "stream",
          "text": [
            "ls: cannot access 'car_data': No such file or directory\n"
          ],
          "name": "stdout"
        }
      ]
    },
    {
      "cell_type": "code",
      "metadata": {
        "id": "CRLrEU6QXFv2",
        "colab_type": "code",
        "colab": {}
      },
      "source": [
        "import numpy as np\n",
        "import os\n",
        "import matplotlib.pyplot as plt\n",
        "import keras\n",
        "import matplotlib.image as npimg\n",
        "from keras.models import Sequential\n",
        "from keras.optimizers import Adam\n",
        "from keras.layers import Conv2D , MaxPooling2D, Dropout, Flatten, Dense\n",
        "from sklearn.utils import shuffle\n",
        "from sklearn.model_selection import train_test_split\n",
        "import cv2\n",
        "import pandas as pd\n",
        "import ntpath\n",
        "import random"
      ],
      "execution_count": 0,
      "outputs": []
    },
    {
      "cell_type": "code",
      "metadata": {
        "id": "xQPwIUW6Xpth",
        "colab_type": "code",
        "colab": {}
      },
      "source": [
        "datadir = 'lssn_data'\n",
        "columns = ['center', 'left', 'right', 'steering', 'throttle', 'reverse', 'speed']\n",
        "data = pd.read_csv(os.path.join(datadir, 'driving_log.csv'), names= columns)\n",
        "pd.set_option('display.max_colwidth', -1)"
      ],
      "execution_count": 0,
      "outputs": []
    },
    {
      "cell_type": "code",
      "metadata": {
        "id": "zX7-SodSQcMJ",
        "colab_type": "code",
        "colab": {}
      },
      "source": [
        "def path_leaf(path):\n",
        "  head, tail = ntpath.split(path)\n",
        "  return tail"
      ],
      "execution_count": 0,
      "outputs": []
    },
    {
      "cell_type": "code",
      "metadata": {
        "id": "jV2N8i2DRMkn",
        "colab_type": "code",
        "colab": {}
      },
      "source": [
        "data['center'] = data['center'].apply(path_leaf)\n",
        "data['left'] = data['left'].apply(path_leaf)\n",
        "data['right'] = data['right'].apply(path_leaf)"
      ],
      "execution_count": 0,
      "outputs": []
    },
    {
      "cell_type": "code",
      "metadata": {
        "id": "17_a7xgORW8f",
        "colab_type": "code",
        "outputId": "1dcead04-593c-468c-cd76-78e29658e5bf",
        "colab": {
          "base_uri": "https://localhost:8080/",
          "height": 204
        }
      },
      "source": [
        "data.head()"
      ],
      "execution_count": 164,
      "outputs": [
        {
          "output_type": "execute_result",
          "data": {
            "text/html": [
              "<div>\n",
              "<style scoped>\n",
              "    .dataframe tbody tr th:only-of-type {\n",
              "        vertical-align: middle;\n",
              "    }\n",
              "\n",
              "    .dataframe tbody tr th {\n",
              "        vertical-align: top;\n",
              "    }\n",
              "\n",
              "    .dataframe thead th {\n",
              "        text-align: right;\n",
              "    }\n",
              "</style>\n",
              "<table border=\"1\" class=\"dataframe\">\n",
              "  <thead>\n",
              "    <tr style=\"text-align: right;\">\n",
              "      <th></th>\n",
              "      <th>center</th>\n",
              "      <th>left</th>\n",
              "      <th>right</th>\n",
              "      <th>steering</th>\n",
              "      <th>throttle</th>\n",
              "      <th>reverse</th>\n",
              "      <th>speed</th>\n",
              "    </tr>\n",
              "  </thead>\n",
              "  <tbody>\n",
              "    <tr>\n",
              "      <th>0</th>\n",
              "      <td>center_2020_01_26_14_34_08_915.jpg</td>\n",
              "      <td>left_2020_01_26_14_34_08_915.jpg</td>\n",
              "      <td>right_2020_01_26_14_34_08_915.jpg</td>\n",
              "      <td>0.000000</td>\n",
              "      <td>1.0</td>\n",
              "      <td>0</td>\n",
              "      <td>15.17358</td>\n",
              "    </tr>\n",
              "    <tr>\n",
              "      <th>1</th>\n",
              "      <td>center_2020_01_26_14_34_09_016.jpg</td>\n",
              "      <td>left_2020_01_26_14_34_09_016.jpg</td>\n",
              "      <td>right_2020_01_26_14_34_09_016.jpg</td>\n",
              "      <td>0.000000</td>\n",
              "      <td>1.0</td>\n",
              "      <td>0</td>\n",
              "      <td>16.30043</td>\n",
              "    </tr>\n",
              "    <tr>\n",
              "      <th>2</th>\n",
              "      <td>center_2020_01_26_14_34_09_117.jpg</td>\n",
              "      <td>left_2020_01_26_14_34_09_117.jpg</td>\n",
              "      <td>right_2020_01_26_14_34_09_117.jpg</td>\n",
              "      <td>0.000000</td>\n",
              "      <td>1.0</td>\n",
              "      <td>0</td>\n",
              "      <td>17.29991</td>\n",
              "    </tr>\n",
              "    <tr>\n",
              "      <th>3</th>\n",
              "      <td>center_2020_01_26_14_34_09_218.jpg</td>\n",
              "      <td>left_2020_01_26_14_34_09_218.jpg</td>\n",
              "      <td>right_2020_01_26_14_34_09_218.jpg</td>\n",
              "      <td>-0.273203</td>\n",
              "      <td>1.0</td>\n",
              "      <td>0</td>\n",
              "      <td>18.33719</td>\n",
              "    </tr>\n",
              "    <tr>\n",
              "      <th>4</th>\n",
              "      <td>center_2020_01_26_14_34_09_318.jpg</td>\n",
              "      <td>left_2020_01_26_14_34_09_318.jpg</td>\n",
              "      <td>right_2020_01_26_14_34_09_318.jpg</td>\n",
              "      <td>-0.342619</td>\n",
              "      <td>1.0</td>\n",
              "      <td>0</td>\n",
              "      <td>19.25360</td>\n",
              "    </tr>\n",
              "  </tbody>\n",
              "</table>\n",
              "</div>"
            ],
            "text/plain": [
              "                               center  ...     speed\n",
              "0  center_2020_01_26_14_34_08_915.jpg  ...  15.17358\n",
              "1  center_2020_01_26_14_34_09_016.jpg  ...  16.30043\n",
              "2  center_2020_01_26_14_34_09_117.jpg  ...  17.29991\n",
              "3  center_2020_01_26_14_34_09_218.jpg  ...  18.33719\n",
              "4  center_2020_01_26_14_34_09_318.jpg  ...  19.25360\n",
              "\n",
              "[5 rows x 7 columns]"
            ]
          },
          "metadata": {
            "tags": []
          },
          "execution_count": 164
        }
      ]
    },
    {
      "cell_type": "code",
      "metadata": {
        "id": "o23tGXhuRXOs",
        "colab_type": "code",
        "outputId": "5de0f9a1-c280-4262-f803-d04c2b8d5dc9",
        "colab": {
          "base_uri": "https://localhost:8080/",
          "height": 283
        }
      },
      "source": [
        "num_bins = 25\n",
        "hist, bins = np.histogram(data['steering'], num_bins)\n",
        "center = (bins[:-1] + bins[1:]) / 2.0\n",
        "plt.bar(center, hist, width=0.05)\n",
        "samples_per_bin = 300\n",
        "plt.plot((np.min(data['steering']), max(data['steering'])), (samples_per_bin, samples_per_bin))\n"
      ],
      "execution_count": 165,
      "outputs": [
        {
          "output_type": "execute_result",
          "data": {
            "text/plain": [
              "[<matplotlib.lines.Line2D at 0x7fc1e75a1668>]"
            ]
          },
          "metadata": {
            "tags": []
          },
          "execution_count": 165
        },
        {
          "output_type": "display_data",
          "data": {
            "image/png": "[encoded data removed]",
            "text/plain": [
              "<Figure size 432x288 with 1 Axes>"
            ]
          },
          "metadata": {
            "tags": []
          }
        }
      ]
    },
    {
      "cell_type": "code",
      "metadata": {
        "id": "APwFeSY_R_I2",
        "colab_type": "code",
        "outputId": "39e7e6e6-f5ea-443d-ad63-5ae6f6bb9698",
        "colab": {
          "base_uri": "https://localhost:8080/",
          "height": 316
        }
      },
      "source": [
        "hist, bins = np.histogram(data['steering'], num_bins)\n",
        "center = (bins[:-1]+ bins[1:]) * 0.5\n",
        "print('total data:', len(data))\n",
        "remove_list = []\n",
        "for j in range(num_bins):\n",
        "  list_ = []\n",
        "  for i in range(len(data['steering'])):\n",
        "    if data['steering'][i] >= bins[j] and data['steering'][i] <= bins[j+1]:\n",
        "      list_.append(i)\n",
        "  list_ = shuffle(list_)\n",
        "  list_ = list_[samples_per_bin:]\n",
        "  remove_list.extend(list_)\n",
        " \n",
        "print('removed:', len(remove_list))\n",
        "data.drop(data.index[remove_list], inplace=True)\n",
        "\n",
        "hist, _ = np.histogram(data['steering'], (num_bins))\n",
        "plt.bar(center, hist, width=0.05)\n",
        "plt.plot((np.min(data['steering']), np.max(data['steering'])), (samples_per_bin, samples_per_bin))\n"
      ],
      "execution_count": 139,
      "outputs": [
        {
          "output_type": "stream",
          "text": [
            "total data: 4583\n",
            "removed: 3085\n"
          ],
          "name": "stdout"
        },
        {
          "output_type": "execute_result",
          "data": {
            "text/plain": [
              "[<matplotlib.lines.Line2D at 0x7fc1e963cdd8>]"
            ]
          },
          "metadata": {
            "tags": []
          },
          "execution_count": 139
        },
        {
          "output_type": "display_data",
          "data": {
            "image/png": "[encoded data removed]",
            "text/plain": [
              "<Figure size 432x288 with 1 Axes>"
            ]
          },
          "metadata": {
            "tags": []
          }
        }
      ]
    },
    {
      "cell_type": "code",
      "metadata": {
        "id": "DaIxroz0UM7t",
        "colab_type": "code",
        "colab": {}
      },
      "source": [
        "def load_img(data_dir, dataframe):\n",
        "  img_path = []\n",
        "  steering = []\n",
        "  for i in range(len(data)):\n",
        "    data_i = data.iloc[i]\n",
        "    center, left, right = data_i[0],  data_i[1],  data_i[2]\n",
        "    img_path.append(os.path.join(data_dir + center.strip()))\n",
        "    steering.append(float(data_i[3]))\n",
        "  img_paths = np.asarray(img_path)\n",
        "  steerings = np.asarray(steering)\n",
        "  return img_paths, steerings\n",
        "imgs, steerings = load_img(datadir + '/IMG/', data)"
      ],
      "execution_count": 0,
      "outputs": []
    },
    {
      "cell_type": "code",
      "metadata": {
        "id": "5_6o05W6Xv8o",
        "colab_type": "code",
        "outputId": "4419d4b7-dffc-4d27-e802-4e5eee9efef5",
        "colab": {
          "base_uri": "https://localhost:8080/",
          "height": 51
        }
      },
      "source": [
        " PU, PW, PU_lab, PW_lab = train_test_split(imgs, steerings, test_size=0.2, random_state=12)\n",
        " print('PT: {}\\nValid Samples:{}'.format(len(PU), len(PW)))"
      ],
      "execution_count": 141,
      "outputs": [
        {
          "output_type": "stream",
          "text": [
            "PT: 1198\n",
            "Valid Samples:300\n"
          ],
          "name": "stdout"
        }
      ]
    },
    {
      "cell_type": "code",
      "metadata": {
        "id": "xbcE9XWIbAMQ",
        "colab_type": "code",
        "outputId": "75efba60-3bfd-4ecd-d292-1ba3b36ca271",
        "colab": {
          "base_uri": "https://localhost:8080/",
          "height": 298
        }
      },
      "source": [
        "fig, ax = plt.subplots(1, 2, figsize=(12,4))\n",
        "ax[0].hist(PU_lab, bins=num_bins, width=0.05, color='green')\n",
        "ax[0].set_title('Training set')\n",
        "ax[1].hist(PW_lab, bins=num_bins, width=0.05, color='red')\n",
        "ax[1].set_title('Valdiation set')\n",
        "\n",
        "\n"
      ],
      "execution_count": 142,
      "outputs": [
        {
          "output_type": "execute_result",
          "data": {
            "text/plain": [
              "Text(0.5, 1.0, 'Valdiation set')"
            ]
          },
          "metadata": {
            "tags": []
          },
          "execution_count": 142
        },
        {
          "output_type": "display_data",
          "data": {
            "image/png": "[encoded data removed]",
            "text/plain": [
              "<Figure size 864x288 with 2 Axes>"
            ]
          },
          "metadata": {
            "tags": []
          }
        }
      ]
    },
    {
      "cell_type": "code",
      "metadata": {
        "id": "K2GJs8NOb6Gc",
        "colab_type": "code",
        "colab": {}
      },
      "source": [
        "def preprocess(img_path):\n",
        "  img = npimg.imread(img_path)\n",
        "  # obcinanie niepotrzebnej czesci zdjec\n",
        "  img = img[60:135,:,:]\n",
        "  img = cv2.cvtColor(img, cv2.COLOR_RGB2YUV)\n",
        "  # reduce noise by averaging\n",
        "  img = cv2.GaussianBlur(img, (3,3), 0)\n",
        "  # rozmiar proponowany dla modelu nvidia\n",
        "  img = cv2.resize(img, (200, 66))\n",
        "  img = img / 255\n",
        "  return img\n"
      ],
      "execution_count": 0,
      "outputs": []
    },
    {
      "cell_type": "code",
      "metadata": {
        "id": "vj6csmvzdCEA",
        "colab_type": "code",
        "colab": {}
      },
      "source": [
        "PU =  np.array(list(map(preprocess, PU)))\n",
        "PW =  np.array(list(map(preprocess, PW)))"
      ],
      "execution_count": 0,
      "outputs": []
    },
    {
      "cell_type": "markdown",
      "metadata": {
        "id": "s5wT6tANQDRt",
        "colab_type": "text"
      },
      "source": [
        "![alt text](https://miro.medium.com/max/580/1*JKDXxMxiEtiySMg1yeTibw.png)"
      ]
    },
    {
      "cell_type": "markdown",
      "metadata": {
        "id": "Uj9-aFSNQrke",
        "colab_type": "text"
      },
      "source": [
        "![alt text](https://ml-cheatsheet.readthedocs.io/en/latest/_images/elu.png)"
      ]
    },
    {
      "cell_type": "code",
      "metadata": {
        "id": "f97akhczjL4g",
        "colab_type": "code",
        "colab": {}
      },
      "source": [
        "def nvidia_model():\n",
        "  model = Sequential()\n",
        "  # jadro 2x2                                                         y     x\n",
        "  model.add(Conv2D(24, kernel_size=(5, 5), strides=(2,2), input_shape=(66, 200, 3), activation='elu'))\n",
        "  model.add(Conv2D(36, kernel_size=(5, 5), strides=(2,2), activation='elu'))\n",
        "  model.add(Conv2D(48, kernel_size=(5, 5), strides=(2,2), activation='elu'))\n",
        "  model.add(Conv2D(64, kernel_size=(3, 3), activation='elu'))\n",
        "  # dead relu \n",
        "  model.add(Conv2D(64, kernel_size=(3, 3), activation='elu'))\n",
        "  model.add(Dropout(0.5))\n",
        "  model.add(Flatten())\n",
        "  model.add(Dense(100, activation='elu'))\n",
        "  model.add(Dropout(0.5))\n",
        "\n",
        "  model.add(Dense(50, activation='elu'))\n",
        "  model.add(Dropout(0.5))\n",
        "\n",
        "  model.add(Dense(10, activation='elu'))\n",
        "  model.add(Dropout(0.5))\n",
        "\n",
        "  model.add(Dense(1))\n",
        "  optimizer = Adam(lr=0.001)\n",
        "  # mean square error\n",
        "  model.compile(loss='mse', optimizer=optimizer)\n",
        "\n",
        "  return model\n"
      ],
      "execution_count": 0,
      "outputs": []
    },
    {
      "cell_type": "code",
      "metadata": {
        "id": "hfavDgbskqed",
        "colab_type": "code",
        "colab": {}
      },
      "source": [
        "model = nvidia_model()"
      ],
      "execution_count": 0,
      "outputs": []
    },
    {
      "cell_type": "code",
      "metadata": {
        "id": "xOwMAIQunCUc",
        "colab_type": "code",
        "outputId": "95463b60-d947-47fc-aebf-71cdeab1240e",
        "colab": {
          "base_uri": "https://localhost:8080/",
          "height": 1000
        }
      },
      "source": [
        "history = model.fit(PU, PU_lab, epochs=30, validation_data=(PW, PW_lab), batch_size=100, verbose=1, shuffle=1)"
      ],
      "execution_count": 150,
      "outputs": [
        {
          "output_type": "stream",
          "text": [
            "Train on 1198 samples, validate on 300 samples\n",
            "Epoch 1/30\n",
            "1198/1198 [==============================] - 10s 8ms/step - loss: 0.5545 - val_loss: 0.0669\n",
            "Epoch 2/30\n",
            "1198/1198 [==============================] - 9s 8ms/step - loss: 0.1379 - val_loss: 0.0639\n",
            "Epoch 3/30\n",
            "1198/1198 [==============================] - 9s 7ms/step - loss: 0.0916 - val_loss: 0.0615\n",
            "Epoch 4/30\n",
            "1198/1198 [==============================] - 9s 7ms/step - loss: 0.0783 - val_loss: 0.0590\n",
            "Epoch 5/30\n",
            "1198/1198 [==============================] - 9s 7ms/step - loss: 0.0686 - val_loss: 0.0564\n",
            "Epoch 6/30\n",
            "1198/1198 [==============================] - 9s 7ms/step - loss: 0.0629 - val_loss: 0.0546\n",
            "Epoch 7/30\n",
            "1198/1198 [==============================] - 9s 7ms/step - loss: 0.0644 - val_loss: 0.0529\n",
            "Epoch 8/30\n",
            "1198/1198 [==============================] - 9s 7ms/step - loss: 0.0598 - val_loss: 0.0506\n",
            "Epoch 9/30\n",
            "1198/1198 [==============================] - 9s 7ms/step - loss: 0.0592 - val_loss: 0.0479\n",
            "Epoch 10/30\n",
            "1198/1198 [==============================] - 9s 7ms/step - loss: 0.0564 - val_loss: 0.0462\n",
            "Epoch 11/30\n",
            "1198/1198 [==============================] - 9s 7ms/step - loss: 0.0553 - val_loss: 0.0442\n",
            "Epoch 12/30\n",
            "1198/1198 [==============================] - 9s 8ms/step - loss: 0.0518 - val_loss: 0.0423\n",
            "Epoch 13/30\n",
            "1198/1198 [==============================] - 9s 8ms/step - loss: 0.0529 - val_loss: 0.0411\n",
            "Epoch 14/30\n",
            "1198/1198 [==============================] - 9s 8ms/step - loss: 0.0512 - val_loss: 0.0406\n",
            "Epoch 15/30\n",
            "1198/1198 [==============================] - 9s 7ms/step - loss: 0.0463 - val_loss: 0.0394\n",
            "Epoch 16/30\n",
            "1198/1198 [==============================] - 9s 8ms/step - loss: 0.0509 - val_loss: 0.0382\n",
            "Epoch 17/30\n",
            "1198/1198 [==============================] - 9s 7ms/step - loss: 0.0477 - val_loss: 0.0398\n",
            "Epoch 18/30\n",
            "1198/1198 [==============================] - 9s 7ms/step - loss: 0.0451 - val_loss: 0.0374\n",
            "Epoch 19/30\n",
            "1198/1198 [==============================] - 9s 7ms/step - loss: 0.0447 - val_loss: 0.0373\n",
            "Epoch 20/30\n",
            "1198/1198 [==============================] - 9s 7ms/step - loss: 0.0452 - val_loss: 0.0371\n",
            "Epoch 21/30\n",
            "1198/1198 [==============================] - 9s 7ms/step - loss: 0.0434 - val_loss: 0.0368\n",
            "Epoch 22/30\n",
            "1198/1198 [==============================] - 9s 7ms/step - loss: 0.0458 - val_loss: 0.0355\n",
            "Epoch 23/30\n",
            "1198/1198 [==============================] - 9s 7ms/step - loss: 0.0430 - val_loss: 0.0359\n",
            "Epoch 24/30\n",
            "1198/1198 [==============================] - 9s 7ms/step - loss: 0.0424 - val_loss: 0.0383\n",
            "Epoch 25/30\n",
            "1198/1198 [==============================] - 9s 7ms/step - loss: 0.0434 - val_loss: 0.0381\n",
            "Epoch 26/30\n",
            "1198/1198 [==============================] - 9s 7ms/step - loss: 0.0407 - val_loss: 0.0335\n",
            "Epoch 27/30\n",
            "1198/1198 [==============================] - 9s 7ms/step - loss: 0.0406 - val_loss: 0.0349\n",
            "Epoch 28/30\n",
            "1198/1198 [==============================] - 9s 7ms/step - loss: 0.0399 - val_loss: 0.0371\n",
            "Epoch 29/30\n",
            "1198/1198 [==============================] - 9s 7ms/step - loss: 0.0386 - val_loss: 0.0327\n",
            "Epoch 30/30\n",
            "1198/1198 [==============================] - 9s 7ms/step - loss: 0.0393 - val_loss: 0.0351\n"
          ],
          "name": "stdout"
        }
      ]
    },
    {
      "cell_type": "code",
      "metadata": {
        "id": "wiKgs2_Jotsh",
        "colab_type": "code",
        "outputId": "3d00aa39-a128-4e99-9aa8-a9f6e83a4214",
        "colab": {
          "base_uri": "https://localhost:8080/",
          "height": 312
        }
      },
      "source": [
        "plt.plot(history.history['loss'])\n",
        "plt.plot(history.history['val_loss'])\n",
        "plt.legend(['uczenie', 'walidacja'])\n",
        "plt.xlabel('Epoka')\n",
        "plt.title('Loss')"
      ],
      "execution_count": 168,
      "outputs": [
        {
          "output_type": "execute_result",
          "data": {
            "text/plain": [
              "Text(0.5, 1.0, 'Loss')"
            ]
          },
          "metadata": {
            "tags": []
          },
          "execution_count": 168
        },
        {
          "output_type": "display_data",
          "data": {
            "image/png": "[encoded data removed]",
            "text/plain": [
              "<Figure size 432x288 with 1 Axes>"
            ]
          },
          "metadata": {
            "tags": []
          }
        }
      ]
    },
    {
      "cell_type": "code",
      "metadata": {
        "id": "gCbgeIiLqga7",
        "colab_type": "code",
        "colab": {}
      },
      "source": [
        "model.save('test5.h5')"
      ],
      "execution_count": 0,
      "outputs": []
    },
    {
      "cell_type": "code",
      "metadata": {
        "id": "cg4nffPpxxxr",
        "colab_type": "code",
        "colab": {}
      },
      "source": [
        "from google.colab import files\n",
        "files.download('test5.h5')"
      ],
      "execution_count": 0,
      "outputs": []
    },
    {
      "cell_type": "code",
      "metadata": {
        "id": "vcQin-vrx37W",
        "colab_type": "code",
        "outputId": "5694953e-17de-4015-8668-da5426002357",
        "colab": {
          "base_uri": "https://localhost:8080/",
          "height": 34
        }
      },
      "source": [
        ""
      ],
      "execution_count": 0,
      "outputs": [
        {
          "output_type": "execute_result",
          "data": {
            "text/plain": [
              "array([[-0.0155058]], dtype=float32)"
            ]
          },
          "metadata": {
            "tags": []
          },
          "execution_count": 52
        }
      ]
    },
    {
      "cell_type": "code",
      "metadata": {
        "id": "giu5FRK3R586",
        "colab_type": "code",
        "outputId": "aa34dbad-0153-4da9-b142-12a5f0362235",
        "colab": {
          "base_uri": "https://localhost:8080/",
          "height": 179
        }
      },
      "source": [
        "ran = random.randint(0, len(PU) - 1)\n",
        "plt.imshow(PU[ran])\n",
        "model.predict(np.asarray([PU[ran]]))\n"
      ],
      "execution_count": 133,
      "outputs": [
        {
          "output_type": "execute_result",
          "data": {
            "text/plain": [
              "array([[0.41401646]], dtype=float32)"
            ]
          },
          "metadata": {
            "tags": []
          },
          "execution_count": 133
        },
        {
          "output_type": "display_data",
          "data": {
            "image/png": "[encoded data removed]",
            "text/plain": [
              "<Figure size 432x288 with 1 Axes>"
            ]
          },
          "metadata": {
            "tags": []
          }
        }
      ]
    },
    {
      "cell_type": "code",
      "metadata": {
        "id": "JaDWto2eUk7w",
        "colab_type": "code",
        "colab": {}
      },
      "source": [
        ""
      ],
      "execution_count": 0,
      "outputs": []
    }
  ]
}